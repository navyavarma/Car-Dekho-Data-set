{
 "cells": [
  {
   "cell_type": "markdown",
   "id": "3763aa0b",
   "metadata": {},
   "source": [
    "Aim: predicting the selling price of the car based on various features of the cars, including the present price of the cars."
   ]
  },
  {
   "cell_type": "code",
   "execution_count": 1,
   "id": "3a634056",
   "metadata": {},
   "outputs": [],
   "source": [
    "#importing the libraries\n",
    "import numpy as np\n",
    "import pickle\n",
    "import pandas as pd\n",
    "import matplotlib.pyplot as plt\n",
    "import seaborn as sns\n",
    "from sklearn.model_selection import train_test_split\n",
    "from sklearn.preprocessing import StandardScaler\n",
    "import warnings\n",
    "import pickle\n",
    "warnings.filterwarnings('ignore')"
   ]
  },
  {
   "cell_type": "markdown",
   "id": "12cd68b9",
   "metadata": {},
   "source": [
    "Loading the exploratory data set"
   ]
  },
  {
   "cell_type": "code",
   "execution_count": 3,
   "id": "901c39b3",
   "metadata": {},
   "outputs": [
    {
     "data": {
      "text/html": [
       "<div>\n",
       "<style scoped>\n",
       "    .dataframe tbody tr th:only-of-type {\n",
       "        vertical-align: middle;\n",
       "    }\n",
       "\n",
       "    .dataframe tbody tr th {\n",
       "        vertical-align: top;\n",
       "    }\n",
       "\n",
       "    .dataframe thead th {\n",
       "        text-align: right;\n",
       "    }\n",
       "</style>\n",
       "<table border=\"1\" class=\"dataframe\">\n",
       "  <thead>\n",
       "    <tr style=\"text-align: right;\">\n",
       "      <th></th>\n",
       "      <th>year</th>\n",
       "      <th>selling_price</th>\n",
       "      <th>km_driven</th>\n",
       "      <th>fuel_Diesel</th>\n",
       "      <th>fuel_LPG</th>\n",
       "      <th>fuel_Petrol</th>\n",
       "      <th>seller_type_Individual</th>\n",
       "      <th>seller_type_Trustmark Dealer</th>\n",
       "      <th>transmission_Manual</th>\n",
       "      <th>owner_Fourth &amp; Above Owner</th>\n",
       "      <th>owner_Second Owner</th>\n",
       "      <th>owner_Test Drive Car</th>\n",
       "      <th>owner_Third Owner</th>\n",
       "    </tr>\n",
       "  </thead>\n",
       "  <tbody>\n",
       "    <tr>\n",
       "      <th>0</th>\n",
       "      <td>2014</td>\n",
       "      <td>450000</td>\n",
       "      <td>145500</td>\n",
       "      <td>1</td>\n",
       "      <td>0</td>\n",
       "      <td>0</td>\n",
       "      <td>1</td>\n",
       "      <td>0</td>\n",
       "      <td>1</td>\n",
       "      <td>0</td>\n",
       "      <td>0</td>\n",
       "      <td>0</td>\n",
       "      <td>0</td>\n",
       "    </tr>\n",
       "    <tr>\n",
       "      <th>1</th>\n",
       "      <td>2014</td>\n",
       "      <td>370000</td>\n",
       "      <td>120000</td>\n",
       "      <td>1</td>\n",
       "      <td>0</td>\n",
       "      <td>0</td>\n",
       "      <td>1</td>\n",
       "      <td>0</td>\n",
       "      <td>1</td>\n",
       "      <td>0</td>\n",
       "      <td>1</td>\n",
       "      <td>0</td>\n",
       "      <td>0</td>\n",
       "    </tr>\n",
       "    <tr>\n",
       "      <th>2</th>\n",
       "      <td>2006</td>\n",
       "      <td>158000</td>\n",
       "      <td>140000</td>\n",
       "      <td>0</td>\n",
       "      <td>0</td>\n",
       "      <td>1</td>\n",
       "      <td>1</td>\n",
       "      <td>0</td>\n",
       "      <td>1</td>\n",
       "      <td>0</td>\n",
       "      <td>0</td>\n",
       "      <td>0</td>\n",
       "      <td>1</td>\n",
       "    </tr>\n",
       "    <tr>\n",
       "      <th>3</th>\n",
       "      <td>2010</td>\n",
       "      <td>225000</td>\n",
       "      <td>127000</td>\n",
       "      <td>1</td>\n",
       "      <td>0</td>\n",
       "      <td>0</td>\n",
       "      <td>1</td>\n",
       "      <td>0</td>\n",
       "      <td>1</td>\n",
       "      <td>0</td>\n",
       "      <td>0</td>\n",
       "      <td>0</td>\n",
       "      <td>0</td>\n",
       "    </tr>\n",
       "    <tr>\n",
       "      <th>4</th>\n",
       "      <td>2007</td>\n",
       "      <td>130000</td>\n",
       "      <td>120000</td>\n",
       "      <td>0</td>\n",
       "      <td>0</td>\n",
       "      <td>1</td>\n",
       "      <td>1</td>\n",
       "      <td>0</td>\n",
       "      <td>1</td>\n",
       "      <td>0</td>\n",
       "      <td>0</td>\n",
       "      <td>0</td>\n",
       "      <td>0</td>\n",
       "    </tr>\n",
       "  </tbody>\n",
       "</table>\n",
       "</div>"
      ],
      "text/plain": [
       "   year  selling_price  km_driven  fuel_Diesel  fuel_LPG  fuel_Petrol  \\\n",
       "0  2014         450000     145500            1         0            0   \n",
       "1  2014         370000     120000            1         0            0   \n",
       "2  2006         158000     140000            0         0            1   \n",
       "3  2010         225000     127000            1         0            0   \n",
       "4  2007         130000     120000            0         0            1   \n",
       "\n",
       "   seller_type_Individual  seller_type_Trustmark Dealer  transmission_Manual  \\\n",
       "0                       1                             0                    1   \n",
       "1                       1                             0                    1   \n",
       "2                       1                             0                    1   \n",
       "3                       1                             0                    1   \n",
       "4                       1                             0                    1   \n",
       "\n",
       "   owner_Fourth & Above Owner  owner_Second Owner  owner_Test Drive Car  \\\n",
       "0                           0                   0                     0   \n",
       "1                           0                   1                     0   \n",
       "2                           0                   0                     0   \n",
       "3                           0                   0                     0   \n",
       "4                           0                   0                     0   \n",
       "\n",
       "   owner_Third Owner  \n",
       "0                  0  \n",
       "1                  0  \n",
       "2                  1  \n",
       "3                  0  \n",
       "4                  0  "
      ]
     },
     "execution_count": 3,
     "metadata": {},
     "output_type": "execute_result"
    }
   ],
   "source": [
    "df_eda = pickle.load(open('C:\\\\Users\\\\rakhi\\\\OneDrive\\\\Desktop\\\\Car Dekho Dataset\\\\models\\\\ExplorataryDataAnalysis.pkl','rb'))\n",
    "df_eda.head()"
   ]
  },
  {
   "cell_type": "code",
   "execution_count": 4,
   "id": "f4e3bc95",
   "metadata": {},
   "outputs": [],
   "source": [
    "#independent features and dependent features\n",
    "X=df_eda.drop(columns='selling_price',axis=1)\n",
    "y=df_eda['selling_price']"
   ]
  },
  {
   "cell_type": "code",
   "execution_count": 5,
   "id": "4fe09d9b",
   "metadata": {},
   "outputs": [
    {
     "name": "stdout",
     "output_type": "stream",
     "text": [
      "      year  km_driven  fuel_Diesel  fuel_LPG  fuel_Petrol  \\\n",
      "5501  2011      60000            1         0            0   \n",
      "2311  2013     184000            1         0            0   \n",
      "2629  2011      90000            0         0            1   \n",
      "7438  2013     120000            1         0            0   \n",
      "291   2017      35000            0         0            1   \n",
      "...    ...        ...          ...       ...          ...   \n",
      "8105  2004     120000            0         0            1   \n",
      "5295  2018      15000            1         0            0   \n",
      "4051  2005     125000            0         0            1   \n",
      "235   2010     110000            1         0            0   \n",
      "5259  2018      10000            1         0            0   \n",
      "\n",
      "      seller_type_Individual  seller_type_Trustmark Dealer  \\\n",
      "5501                       1                             0   \n",
      "2311                       1                             0   \n",
      "2629                       1                             0   \n",
      "7438                       1                             0   \n",
      "291                        1                             0   \n",
      "...                      ...                           ...   \n",
      "8105                       1                             0   \n",
      "5295                       1                             0   \n",
      "4051                       1                             0   \n",
      "235                        1                             0   \n",
      "5259                       0                             0   \n",
      "\n",
      "      transmission_Manual  owner_Fourth & Above Owner  owner_Second Owner  \\\n",
      "5501                    1                           0                   1   \n",
      "2311                    1                           0                   0   \n",
      "2629                    1                           0                   0   \n",
      "7438                    1                           0                   1   \n",
      "291                     1                           0                   0   \n",
      "...                   ...                         ...                 ...   \n",
      "8105                    1                           0                   1   \n",
      "5295                    1                           0                   0   \n",
      "4051                    1                           1                   0   \n",
      "235                     1                           0                   1   \n",
      "5259                    0                           0                   0   \n",
      "\n",
      "      owner_Test Drive Car  owner_Third Owner  \n",
      "5501                     0                  0  \n",
      "2311                     0                  0  \n",
      "2629                     0                  0  \n",
      "7438                     0                  0  \n",
      "291                      0                  0  \n",
      "...                    ...                ...  \n",
      "8105                     0                  0  \n",
      "5295                     0                  0  \n",
      "4051                     0                  0  \n",
      "235                      0                  0  \n",
      "5259                     0                  0  \n",
      "\n",
      "[5570 rows x 12 columns]\n",
      "      year  km_driven  fuel_Diesel  fuel_LPG  fuel_Petrol  \\\n",
      "6951  2011     145000            1         0            0   \n",
      "3910  2013      58609            0         0            1   \n",
      "4676  2016      30000            1         0            0   \n",
      "5938  2011     140000            1         0            0   \n",
      "2866  2017      45000            1         0            0   \n",
      "...    ...        ...          ...       ...          ...   \n",
      "6852  2015      50000            1         0            0   \n",
      "734   2012     110000            1         0            0   \n",
      "102   2019      10000            0         0            1   \n",
      "3130  2017      26000            0         0            1   \n",
      "1380  2017      63982            1         0            0   \n",
      "\n",
      "      seller_type_Individual  seller_type_Trustmark Dealer  \\\n",
      "6951                       1                             0   \n",
      "3910                       1                             0   \n",
      "4676                       0                             0   \n",
      "5938                       1                             0   \n",
      "2866                       1                             0   \n",
      "...                      ...                           ...   \n",
      "6852                       1                             0   \n",
      "734                        1                             0   \n",
      "102                        1                             0   \n",
      "3130                       1                             0   \n",
      "1380                       0                             0   \n",
      "\n",
      "      transmission_Manual  owner_Fourth & Above Owner  owner_Second Owner  \\\n",
      "6951                    1                           0                   0   \n",
      "3910                    1                           0                   1   \n",
      "4676                    0                           0                   0   \n",
      "5938                    1                           0                   1   \n",
      "2866                    1                           0                   0   \n",
      "...                   ...                         ...                 ...   \n",
      "6852                    1                           0                   0   \n",
      "734                     1                           0                   1   \n",
      "102                     1                           0                   0   \n",
      "3130                    0                           0                   0   \n",
      "1380                    1                           0                   0   \n",
      "\n",
      "      owner_Test Drive Car  owner_Third Owner  \n",
      "6951                     0                  0  \n",
      "3910                     0                  0  \n",
      "4676                     0                  0  \n",
      "5938                     0                  0  \n",
      "2866                     0                  0  \n",
      "...                    ...                ...  \n",
      "6852                     0                  0  \n",
      "734                      0                  0  \n",
      "102                      0                  0  \n",
      "3130                     0                  0  \n",
      "1380                     0                  0  \n",
      "\n",
      "[2388 rows x 12 columns]\n",
      "5501     270000\n",
      "2311     600000\n",
      "2629     120000\n",
      "7438     300000\n",
      "291      450000\n",
      "         ...   \n",
      "8105     135000\n",
      "5295     725000\n",
      "4051      95000\n",
      "235      250000\n",
      "5259    4000000\n",
      "Name: selling_price, Length: 5570, dtype: int64\n"
     ]
    }
   ],
   "source": [
    "#splitting the data into train and test\n",
    "from sklearn.model_selection import train_test_split\n",
    "\n",
    "X_train,X_test,y_train,y_test=train_test_split(X,y,test_size=0.3,random_state=1)\n",
    "print(X_train)\n",
    "print(X_test)\n",
    "print(y_train)"
   ]
  },
  {
   "cell_type": "code",
   "execution_count": 6,
   "id": "4ccaba34",
   "metadata": {},
   "outputs": [],
   "source": [
    "#standarization of the data\n",
    "from sklearn.preprocessing import StandardScaler\n",
    "\n",
    "scaler=StandardScaler()\n",
    "X_train=scaler.fit_transform(X_train)\n",
    "X_test=scaler.fit_transform(X_test)"
   ]
  },
  {
   "cell_type": "code",
   "execution_count": 7,
   "id": "407479e3",
   "metadata": {},
   "outputs": [],
   "source": [
    "#machine learning algorithms\n",
    "from sklearn.linear_model import LinearRegression\n",
    "from sklearn.linear_model import Lasso, Ridge\n",
    "from sklearn.tree import DecisionTreeRegressor\n",
    "from sklearn.ensemble import RandomForestRegressor\n",
    "\n",
    "from sklearn.metrics import r2_score\n",
    "from sklearn.metrics import mean_absolute_error, mean_squared_error\n",
    "from sklearn.model_selection import KFold\n",
    "from sklearn.model_selection import cross_val_score\n",
    "from sklearn.tree import plot_tree"
   ]
  },
  {
   "cell_type": "markdown",
   "id": "ad7042db",
   "metadata": {},
   "source": [
    "Building a linear regression model"
   ]
  },
  {
   "cell_type": "code",
   "execution_count": 8,
   "id": "7aa49539",
   "metadata": {},
   "outputs": [
    {
     "name": "stdout",
     "output_type": "stream",
     "text": [
      "coefficients: [ 159658.45866422  -99911.31127965  176292.89726027    8379.64794872\n",
      "   -9604.9600421  -121411.98283906  -68316.36043019 -369890.44156839\n",
      "    7622.19692182  -12932.68778985   84598.25407317   10125.74077503]\n",
      "intercept: 635958.7409335717\n",
      "AxesSubplot(0.125,0.125;0.775x0.755)\n",
      "r2_score: 0.5137668597632705\n",
      "Mean Absolute Error: 317863.6022849452\n",
      "Mean Squared Error: 338522807168.47076\n",
      "Root Mean Square Error: 581827.1282507123\n",
      "accuracy score of training data: 0.5043986519335371\n",
      "accuracy score of testing data: 0.5137668597632705\n"
     ]
    },
    {
     "data": {
      "image/png": "[encoded data removed]",
      "text/plain": [
       "<Figure size 1080x360 with 1 Axes>"
      ]
     },
     "metadata": {
      "needs_background": "light"
     },
     "output_type": "display_data"
    }
   ],
   "source": [
    "#linear regression model\n",
    "lin_reg=LinearRegression()\n",
    "#building the algorithm\n",
    "lin_reg.fit(X_train, y_train)\n",
    "\n",
    "#getting coefficients and intercepts\n",
    "print('coefficients:',lin_reg.coef_)\n",
    "print('intercept:',lin_reg.intercept_)\n",
    "\n",
    "#predicting on the test data\n",
    "y_pred_lin=lin_reg.predict(X_test)\n",
    "\n",
    "#compare the actual output values and predicted values\n",
    "df = pd.DataFrame({'Actual':y_test, 'Predicted':y_pred_lin})\n",
    "df.reset_index(inplace=True,drop=True)\n",
    "\n",
    "#showing the difference between the actual and predicted values\n",
    "df1=df.head(25)\n",
    "print(df1.plot(kind='bar', figsize=(15,5)))\n",
    "\n",
    "#calculate the accuracy\n",
    "from sklearn import metrics\n",
    "\n",
    "print('r2_score:',metrics.r2_score(y_test,y_pred_lin))\n",
    "print('Mean Absolute Error:',metrics.mean_absolute_error(y_test,y_pred_lin))\n",
    "print('Mean Squared Error:',metrics.mean_squared_error(y_test,y_pred_lin))\n",
    "print('Root Mean Square Error:',np.sqrt(metrics.mean_squared_error(y_test,y_pred_lin)))\n",
    "\n",
    "#training data\n",
    "print('accuracy score of training data:',lin_reg.score(X_train,y_train))\n",
    "print('accuracy score of testing data:',lin_reg.score(X_test,y_test))"
   ]
  },
  {
   "cell_type": "code",
   "execution_count": 9,
   "id": "df218b5a",
   "metadata": {},
   "outputs": [
    {
     "data": {
      "text/plain": [
       "<matplotlib.collections.PathCollection at 0x21481593eb0>"
      ]
     },
     "execution_count": 9,
     "metadata": {},
     "output_type": "execute_result"
    },
    {
     "data": {
      "image/png": "[encoded data removed]",
      "text/plain": [
       "<Figure size 432x288 with 1 Axes>"
      ]
     },
     "metadata": {},
     "output_type": "display_data"
    }
   ],
   "source": [
    "sns.set(rc={'figure.facecolor':'lightblue'})\n",
    "plt.scatter(y_test,y_pred_lin)"
   ]
  },
  {
   "cell_type": "code",
   "execution_count": 10,
   "id": "01d22da8",
   "metadata": {},
   "outputs": [
    {
     "name": "stdout",
     "output_type": "stream",
     "text": [
      "                            OLS Regression Results                            \n",
      "==============================================================================\n",
      "Dep. Variable:          selling_price   R-squared:                       0.510\n",
      "Model:                            OLS   Adj. R-squared:                  0.509\n",
      "Method:                 Least Squares   F-statistic:                     689.2\n",
      "Date:                Wed, 03 Aug 2022   Prob (F-statistic):               0.00\n",
      "Time:                        15:28:56   Log-Likelihood:            -1.1675e+05\n",
      "No. Observations:                7958   AIC:                         2.335e+05\n",
      "Df Residuals:                    7945   BIC:                         2.336e+05\n",
      "Df Model:                          12                                         \n",
      "Covariance Type:            nonrobust                                         \n",
      "================================================================================================\n",
      "                                   coef    std err          t      P>|t|      [0.025      0.975]\n",
      "------------------------------------------------------------------------------------------------\n",
      "const                        -7.482e+07   4.27e+06    -17.509      0.000   -8.32e+07   -6.64e+07\n",
      "year                          3.811e+04   2115.620     18.012      0.000     3.4e+04    4.23e+04\n",
      "km_driven                       -2.5314      0.210    -12.067      0.000      -2.943      -2.120\n",
      "fuel_Diesel                    3.51e+05   7.68e+04      4.571      0.000       2e+05    5.02e+05\n",
      "fuel_LPG                      1.117e+05   1.21e+05      0.923      0.356   -1.26e+05    3.49e+05\n",
      "fuel_Petrol                  -3.863e+04   7.69e+04     -0.502      0.616   -1.89e+05    1.12e+05\n",
      "seller_type_Individual       -3.568e+05   2.02e+04    -17.651      0.000   -3.96e+05   -3.17e+05\n",
      "seller_type_Trustmark Dealer -4.676e+05   4.14e+04    -11.290      0.000   -5.49e+05   -3.86e+05\n",
      "transmission_Manual          -1.119e+06   2.08e+04    -53.685      0.000   -1.16e+06   -1.08e+06\n",
      "owner_Fourth & Above Owner     3.28e+04   4.75e+04      0.691      0.489   -6.02e+04    1.26e+05\n",
      "owner_Second Owner           -3.607e+04   1.66e+04     -2.173      0.030   -6.86e+04   -3523.592\n",
      "owner_Test Drive Car          2.505e+06   2.56e+05      9.801      0.000       2e+06    3.01e+06\n",
      "owner_Third Owner              2.76e+04   2.82e+04      0.979      0.328   -2.77e+04    8.29e+04\n",
      "==============================================================================\n",
      "Omnibus:                     5190.407   Durbin-Watson:                   1.604\n",
      "Prob(Omnibus):                  0.000   Jarque-Bera (JB):           130855.997\n",
      "Skew:                           2.732   Prob(JB):                         0.00\n",
      "Kurtosis:                      22.099   Cond. No.                     5.15e+07\n",
      "==============================================================================\n",
      "\n",
      "Notes:\n",
      "[1] Standard Errors assume that the covariance matrix of the errors is correctly specified.\n",
      "[2] The condition number is large, 5.15e+07. This might indicate that there are\n",
      "strong multicollinearity or other numerical problems.\n"
     ]
    }
   ],
   "source": [
    "#building a LR model using statsmodels Ordinary least-squares (OLS) models\n",
    "#!pip install statsmodels\n",
    "import statsmodels.api as sm\n",
    "\n",
    "y=df_eda['selling_price']\n",
    "X=df_eda.drop(['selling_price'],axis=1)\n",
    "\n",
    "X_constant=sm.add_constant(X)\n",
    "model=sm.OLS(y,X_constant).fit()\n",
    "\n",
    "model.predict(X_constant)\n",
    "print(model.summary())"
   ]
  },
  {
   "cell_type": "markdown",
   "id": "f297c30a",
   "metadata": {},
   "source": [
    "Regularized Regression"
   ]
  },
  {
   "cell_type": "markdown",
   "id": "adc0a6e5",
   "metadata": {},
   "source": [
    "Ridge Regression Ridge regression is an extension of linear regression where the loss function is modified to minimize the complexity of the model. This modification is done by adding a penalty parameter that is equivalent to the square of the magnitude of the coefficients.\n",
    "Loss function = OLS + alpha * summation (squared coefficient values)\n",
    "\n",
    "In the above loss function, alpha is the parameter we need to select. A low alpha value can lead to over-fitting, whereas a high alpha value can lead to under-fitting.\n",
    "\n",
    "Instead of arbitrarily choosing alpha value ,it would be better to use cross-validation to choose the tuning parameter alpha. We can do this using the cross-validated ridge regression function, RidgeCV()"
   ]
  },
  {
   "cell_type": "code",
   "execution_count": 12,
   "id": "d08cbfa2",
   "metadata": {},
   "outputs": [
    {
     "name": "stdout",
     "output_type": "stream",
     "text": [
      "0.005\n",
      "Root Mean Squared Error: 581921.1370704225\n",
      "r2_score: 0.5136097206605541\n"
     ]
    }
   ],
   "source": [
    "#building ridgeregression model\n",
    "from sklearn.linear_model import Ridge, RidgeCV\n",
    "\n",
    "alphas=10**np.linspace(10,-2,100)*0.5\n",
    "\n",
    "ridge_cv= RidgeCV(alphas=alphas,normalize=True)\n",
    "ridge_cv.fit(X_train,y_train)\n",
    "print(ridge_cv.alpha_)\n",
    "\n",
    "#ridge regression L2 regularization\n",
    "ridge=Ridge(alpha=ridge_cv.alpha_,normalize=True)\n",
    "ridge.fit(X_train,y_train)\n",
    "\n",
    "print('Root Mean Squared Error:',np.sqrt(metrics.mean_squared_error(y_test,ridge.predict(X_test))))\n",
    "print('r2_score:',r2_score(y_test,ridge.predict(X_test)))"
   ]
  },
  {
   "cell_type": "code",
   "execution_count": 13,
   "id": "96f0e896",
   "metadata": {},
   "outputs": [
    {
     "name": "stdout",
     "output_type": "stream",
     "text": [
      "Root Mean Squared Error: 581921.1370704225\n",
      "r2_score: 0.5136097206605541\n"
     ]
    }
   ],
   "source": [
    "#ridge regression L2 regularization\n",
    "ridge=Ridge(alpha=ridge_cv.alpha_,normalize=True)\n",
    "ridge.fit(X_train,y_train)\n",
    "\n",
    "y_predr=ridge.predict(X_test)\n",
    "\n",
    "print('Root Mean Squared Error:',np.sqrt(metrics.mean_squared_error(y_test,y_predr)))\n",
    "print('r2_score:',r2_score(y_test,y_predr))"
   ]
  },
  {
   "cell_type": "markdown",
   "id": "d10ff3f2",
   "metadata": {},
   "source": [
    "Lasso Regression Lasso regression, or the Least Absolute Shrinkage and Selection Operator, is also a modification of linear regression. In Lasso, the loss function is modified to minimize the complexity of the model by limiting the sum of the absolute values of the model coefficients (also called the l1-norm)."
   ]
  },
  {
   "cell_type": "markdown",
   "id": "7211ed66",
   "metadata": {},
   "source": [
    "The loss function for Lasso Regression can be expressed as below:"
   ]
  },
  {
   "cell_type": "markdown",
   "id": "82afc051",
   "metadata": {},
   "source": [
    "Loss function = OLS + alpha * summation (absolute values of the magnitude of the coefficients)"
   ]
  },
  {
   "cell_type": "markdown",
   "id": "66ffe6ea",
   "metadata": {},
   "source": [
    "We now ask whether the lasso can yield either a more accurate or a more interpretable model than ridge regression. In order to fit a lasso model, we'll use the Lasso() function; however, this time we'll need to include the argument max_iter = 10000. Other than that change, we proceed just as we did in fitting a ridge model:"
   ]
  },
  {
   "cell_type": "code",
   "execution_count": 14,
   "id": "d86be476",
   "metadata": {},
   "outputs": [
    {
     "name": "stdout",
     "output_type": "stream",
     "text": [
      "[ 159587.92462401  -99830.4387744   177185.37638106    8433.21167928\n",
      "   -8640.23541567 -121315.61406182  -68206.77529437 -369855.02373255\n",
      "    7517.01447952  -12941.17051204   84533.33529859    9998.87189999]\n",
      "[ 158267.42526609  -98141.53041797  169211.19652817    5970.50269799\n",
      "  -14866.59303446 -119730.41444255  -66261.86817179 -369321.86873624\n",
      "    5490.5186411   -13102.17275381   83332.56369981    7664.68626807]\n",
      "r2_score: 0.5136354465612107\n"
     ]
    }
   ],
   "source": [
    "#building lasso regression model\n",
    "from sklearn.linear_model import Lasso,LassoCV\n",
    "\n",
    "#without alpha and cv parameters\n",
    "lasso=Lasso(max_iter=10000,normalize=True)\n",
    "lasso.fit(X_train,y_train)\n",
    "\n",
    "y_predl=lasso.predict(X_test)\n",
    "print(lasso.coef_)\n",
    "\n",
    "#with CV\n",
    "lasso_cv=LassoCV(alphas=None,cv=10,max_iter=100000,normalize=True)\n",
    "lasso_cv.fit(X_train,y_train)\n",
    "\n",
    "lasso.set_params(alpha=lasso_cv.alpha_)\n",
    "lasso.fit(X_train,y_train)\n",
    "\n",
    "y_predll=lasso.predict(X_test)\n",
    "print(lasso.coef_)\n",
    "print('r2_score:',r2_score(y_test,y_predll))"
   ]
  },
  {
   "cell_type": "code",
   "execution_count": 15,
   "id": "21c48fe7",
   "metadata": {},
   "outputs": [
    {
     "name": "stdout",
     "output_type": "stream",
     "text": [
      "r2_score: 0.5583779540047751\n"
     ]
    }
   ],
   "source": [
    "#DecisionTreeRegressor\n",
    "from sklearn.tree import plot_tree\n",
    "\n",
    "dtr=DecisionTreeRegressor(max_depth=60, min_samples_leaf=10,min_samples_split=10)\n",
    "dtr.fit(X_train,y_train)\n",
    "\n",
    "y_pred_dtr=dtr.predict(X_test)\n",
    "\n",
    "print('r2_score:',metrics.r2_score(y_test,y_pred_dtr))"
   ]
  },
  {
   "cell_type": "code",
   "execution_count": 16,
   "id": "5928ab8e",
   "metadata": {},
   "outputs": [
    {
     "name": "stdout",
     "output_type": "stream",
     "text": [
      "0.6753908404680973\n",
      "0.7451396334904743\n"
     ]
    }
   ],
   "source": [
    "#Random forest Regressor\n",
    "rfr=RandomForestRegressor()\n",
    "rfr.fit(X_train,y_train)\n",
    "y_pred_rf=rfr.predict(X_test)\n",
    "print(metrics.r2_score(y_test,y_pred_rf))\n",
    "\n",
    "#with best prameters\n",
    "rfr_best_model=RandomForestRegressor(n_estimators=300,\n",
    "                                     max_features='sqrt',\n",
    "                                     min_samples_split=10,min_samples_leaf=1,max_depth=30)\n",
    "rfr_best_model.fit(X_train,y_train)\n",
    "y_pred_rfr=rfr_best_model.predict(X_test)\n",
    "print(metrics.r2_score(y_test,y_pred_rfr))\n",
    "#If \"sqrt\", then max_features=sqrt(n_features)"
   ]
  },
  {
   "cell_type": "code",
   "execution_count": 17,
   "id": "060aef75",
   "metadata": {},
   "outputs": [
    {
     "name": "stdout",
     "output_type": "stream",
     "text": [
      "[LinearRegression(), RandomForestRegressor(), DecisionTreeRegressor(max_depth=60, min_samples_leaf=10, min_samples_split=10)]\n",
      "accuracy: 0.49440720885963996 0.05574469454463369 Linear Regression\n",
      "accuracy: 0.7561402928174952 0.08242238120796455 Random Forest Regressor\n",
      "accuracy: 0.7479654148267596 0.08629339290766161 Decision Tree Regressor\n"
     ]
    }
   ],
   "source": [
    "from sklearn.model_selection import KFold\n",
    "from sklearn.model_selection import cross_val_score\n",
    "from sklearn.ensemble import VotingRegressor\n",
    "\n",
    "#voting classifier\n",
    "vote = VotingRegressor(estimators=[('LR', lin_reg), ('RFR', rfr), ('DTR', dtr)])\n",
    "vote.fit(X_train, y_train)\n",
    "print(vote.estimators_)\n",
    "y_pred_voting = vote.predict(X_test)\n",
    "\n",
    "#accuracy score\n",
    "score = metrics.r2_score(y_pred_voting, y_test)\n",
    "\n",
    "cv = KFold(n_splits=10, random_state=1, shuffle=True)\n",
    "\n",
    "labels = ['Linear Regression', 'Random Forest Regressor', 'Decision Tree Regressor']\n",
    "\n",
    "for classifier, label in zip([lin_reg, rfr, dtr], labels):\n",
    "    scores = cross_val_score(estimator=classifier, X=X_train, y=y_train, cv=cv)\n",
    "    print('accuracy:',scores.mean(), scores.std(), label)"
   ]
  },
  {
   "cell_type": "markdown",
   "id": "145daac0",
   "metadata": {},
   "source": [
    "from the observations, we can coclude that Random Forest Regressor is the best model among other models for our car price prediction."
   ]
  },
  {
   "cell_type": "markdown",
   "id": "f18339d6",
   "metadata": {},
   "source": [
    "Random Forest is an ensemble learning based regression model. It uses a model called decision tree, multiple decision trees to generate the ensemble model which collectively produces a prediction."
   ]
  },
  {
   "cell_type": "markdown",
   "id": "88ab3cc7",
   "metadata": {},
   "source": [
    "The benefit of this model is that the trees are produced in parallel and are relatively uncorrelated, producing good results."
   ]
  },
  {
   "cell_type": "code",
   "execution_count": 18,
   "id": "f53ba926",
   "metadata": {},
   "outputs": [],
   "source": [
    "with open('C:\\\\Users\\\\rakhi\\\\OneDrive\\\\Desktop\\\\Car Dekho Dataset\\\\models\\\\best_model_car_prediction.pkl', 'wb') as file:\n",
    "    pickle.dump(rfr_best_model, file)\n",
    "\n",
    "#loading a pickle file from models directory\n",
    "model_file=pickle.load(open('C:\\\\Users\\\\rakhi\\\\OneDrive\\\\Desktop\\\\Car Dekho Dataset\\\\models\\\\best_model_car_prediction.pkl', 'rb'))"
   ]
  },
  {
   "cell_type": "code",
   "execution_count": null,
   "id": "185cd6b3",
   "metadata": {},
   "outputs": [],
   "source": []
  }
 ],
 "metadata": {
  "kernelspec": {
   "display_name": "Python 3 (ipykernel)",
   "language": "python",
   "name": "python3"
  },
  "language_info": {
   "codemirror_mode": {
    "name": "ipython",
    "version": 3
   },
   "file_extension": ".py",
   "mimetype": "text/x-python",
   "name": "python",
   "nbconvert_exporter": "python",
   "pygments_lexer": "ipython3",
   "version": "3.9.12"
  }
 },
 "nbformat": 4,
 "nbformat_minor": 5
}
